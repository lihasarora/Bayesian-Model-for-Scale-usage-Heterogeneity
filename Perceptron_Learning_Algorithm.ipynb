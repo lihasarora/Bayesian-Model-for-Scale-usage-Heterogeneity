{
  "nbformat": 4,
  "nbformat_minor": 0,
  "metadata": {
    "colab": {
      "private_outputs": true,
      "provenance": [],
      "authorship_tag": "ABX9TyMdK1yah1AF6tGJTVD00ha+",
      "include_colab_link": true
    },
    "kernelspec": {
      "name": "python3",
      "display_name": "Python 3"
    },
    "language_info": {
      "name": "python"
    }
  },
  "cells": [
    {
      "cell_type": "markdown",
      "metadata": {
        "id": "view-in-github",
        "colab_type": "text"
      },
      "source": [
        "<a href=\"https://colab.research.google.com/github/lihasarora/Bayesian-Model-for-Scale-usage-Heterogeneity/blob/main/Perceptron_Learning_Algorithm.ipynb\" target=\"_parent\"><img src=\"https://colab.research.google.com/assets/colab-badge.svg\" alt=\"Open In Colab\"/></a>"
      ]
    },
    {
      "cell_type": "markdown",
      "source": [
        "This is the learning algo for the Perceptron - The Perceptron had several improvements over the McCollough Pitts neuron model"
      ],
      "metadata": {
        "id": "LIJFlNJcsjlU"
      }
    },
    {
      "cell_type": "code",
      "execution_count": null,
      "metadata": {
        "id": "S8jQ930CqLBp"
      },
      "outputs": [],
      "source": [
        "import pandas as pd\n",
        "import matplotlib.pyplot as plt\n",
        "import seaborn as sn\n",
        "from sklearn.datasets import make_classification\n",
        "import numpy as np"
      ]
    },
    {
      "cell_type": "markdown",
      "source": [
        "Generate a linearly separable function"
      ],
      "metadata": {
        "id": "aOAE1gx1si6Z"
      }
    },
    {
      "cell_type": "code",
      "source": [
        "separable = False\n",
        "while not separable:\n",
        "    samples = make_classification(n_samples=100, n_features=2, n_redundant=0, n_informative=1, n_clusters_per_class=1, flip_y=-1)\n",
        "    red = samples[0][samples[1] == 0]\n",
        "    blue = samples[0][samples[1] == 1]\n",
        "    separable = any([red[:, k].max() < blue[:, k].min() or red[:, k].min() > blue[:, k].max() for k in range(2)])\n",
        "plt.plot(red[:, 0], red[:, 1], 'r.')\n",
        "plt.plot(blue[:, 0], blue[:, 1], 'b.')\n",
        "plt.show()"
      ],
      "metadata": {
        "id": "MDlEfilkqOpI"
      },
      "execution_count": null,
      "outputs": []
    },
    {
      "cell_type": "code",
      "source": [
        "df1 = pd.DataFrame(red, columns = ['x1','x2'])\n",
        "df1[\"Class\"] = [0]*len(df1)\n",
        "\n",
        "df2 = pd.DataFrame(blue, columns = ['x1','x2'])\n",
        "df2[\"Class\"] = [1]*len(df2)\n",
        "\n",
        "df = pd.concat([df1,df2], axis = 0)"
      ],
      "metadata": {
        "id": "d04yFUilqrc-"
      },
      "execution_count": null,
      "outputs": []
    },
    {
      "cell_type": "code",
      "source": [
        "df.head()"
      ],
      "metadata": {
        "id": "RFGb9UCS6ZcB"
      },
      "execution_count": null,
      "outputs": []
    },
    {
      "cell_type": "markdown",
      "source": [
        "One can see that the separation boundry may not pass from (0,0)"
      ],
      "metadata": {
        "id": "5HUwxC8OzfTQ"
      }
    },
    {
      "cell_type": "code",
      "source": [
        "sn.scatterplot(x = df.x1, y = df.x2, hue = df.Class)\n",
        "plt.plot([0],[0], marker = 'x', color = 'black')"
      ],
      "metadata": {
        "id": "wdhPlWa0QcBe"
      },
      "execution_count": null,
      "outputs": []
    },
    {
      "cell_type": "code",
      "source": [
        "# Lets generate a weight vector\n",
        "# Weight vector will be a 3 dimensional vector with one weight as the threshold\n",
        "np.random.seed(5)\n",
        "w = np.random.normal(0,1,3)"
      ],
      "metadata": {
        "id": "nohCViLtz29W"
      },
      "execution_count": null,
      "outputs": []
    },
    {
      "cell_type": "markdown",
      "source": [
        "Boundry in the $x_1 * x_2$ plane will be perpendicular to weight vector\n",
        "For boundry, we know that the following condition is satisfied:  \n",
        "$\\space \\vec W . \\vec X = 0$\n",
        "\n",
        "$\\vec X = [x_0,x_1,x_2]^T$ where $x_0 = 1$ always, indicats the bias"
      ],
      "metadata": {
        "id": "oGneNzcc0W4M"
      }
    },
    {
      "cell_type": "code",
      "source": [
        "# boundry based on the (w)T.x = 0\n",
        "f\"{w[0]:0.2f} + {w[1]:0.2f}*x1+ {w[2]:0.2f}x2 = 0\""
      ],
      "metadata": {
        "id": "gUiTEqoS1gPk"
      },
      "execution_count": null,
      "outputs": []
    },
    {
      "cell_type": "code",
      "source": [
        "def get_boundry(w:np.array)->None:\n",
        "  sn.scatterplot(x = df.x1, y = df.x2, hue = df.Class)\n",
        "  plt.plot([0],[0], marker = 'x', color = 'black')\n",
        "\n",
        "  plt.plot([-2.5,1.5],[((-1*w[0] -1*w[1]*(-2.5))/w[2]),((-1*w[0] -1*w[1]*(1.5))/w[2])], color = 'black')\n",
        "  plt.show()\n",
        "  return None\n"
      ],
      "metadata": {
        "id": "IckErQHM2AJT"
      },
      "execution_count": null,
      "outputs": []
    },
    {
      "cell_type": "markdown",
      "source": [
        "This is what the initial boundry looks like"
      ],
      "metadata": {
        "id": "FYdolNXI3-D2"
      }
    },
    {
      "cell_type": "code",
      "source": [
        "get_boundry(w)"
      ],
      "metadata": {
        "id": "SAhXLRFb2xpS"
      },
      "execution_count": null,
      "outputs": []
    },
    {
      "cell_type": "markdown",
      "source": [
        "Now, I have to learn parameters of W and update the boundry"
      ],
      "metadata": {
        "id": "ZIEzoWca4Bbz"
      }
    },
    {
      "cell_type": "code",
      "source": [
        "for i in range(1000):\n",
        "  if i%20==0:\n",
        "    get_boundry(w)\n",
        "  \n",
        "  # pick a sample\n",
        "  random_sample = df.sample(1).to_numpy()[0]\n",
        "  # Adding one to the random sample to have bias signal\n",
        "  random_sample_coord = np.array([1,random_sample[0], random_sample[1]])\n",
        "  random_sample_class = int(random_sample[2])\n",
        "  f\"{random_sample_coord= } &  {random_sample_class = }\"\n",
        "\n",
        "  # check the dot product with w\n",
        "  if (random_sample_class ==1) & (w.dot(random_sample_coord)<0):\n",
        "    w = w+random_sample_coord\n",
        "  elif (random_sample_class ==0) & (w.dot(random_sample_coord)>0):\n",
        "    w = w-random_sample_coord\n",
        "\n"
      ],
      "metadata": {
        "id": "KkyEK8y04Fpg"
      },
      "execution_count": null,
      "outputs": []
    },
    {
      "cell_type": "code",
      "source": [],
      "metadata": {
        "id": "1zONmVwZ7sMk"
      },
      "execution_count": null,
      "outputs": []
    }
  ]
}